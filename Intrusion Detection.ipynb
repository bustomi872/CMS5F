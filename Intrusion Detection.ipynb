{
  "cells": [
    {
      "cell_type": "markdown",
      "metadata": {
        "id": "view-in-github",
        "colab_type": "text"
      },
      "source": [
        "<a href=\"https://colab.research.google.com/github/bustomi872/CMS5F/blob/main/Intrusion%20Detection.ipynb\" target=\"_parent\"><img src=\"https://colab.research.google.com/assets/colab-badge.svg\" alt=\"Open In Colab\"/></a>"
      ]
    },
    {
      "cell_type": "markdown",
      "id": "08a2fd0a",
      "metadata": {
        "id": "08a2fd0a"
      },
      "source": [
        "# Intrusion Detection\n",
        "\n",
        "### Presentation structure\n",
        "The following cells of code, can be roughly grouped into three principal parts:\n",
        "- [Explanation](#Functions-explanation) of each function used within the main one.\n",
        "- [Intrusion detection pipeline](#Intrusion-detection-pipeline), consists of all the functions presented previously.\n",
        "- [Code execution](#Main-cell) and writing results on file."
      ]
    },
    {
      "cell_type": "markdown",
      "id": "86588871",
      "metadata": {
        "id": "86588871"
      },
      "source": [
        "#### Import the needed libraries"
      ]
    },
    {
      "cell_type": "code",
      "execution_count": 1,
      "id": "8f82fcef",
      "metadata": {
        "id": "8f82fcef"
      },
      "outputs": [],
      "source": [
        "import cv2\n",
        "import numpy as np\n",
        "from matplotlib import pyplot as plt\n",
        "\n",
        "# Import additional library to properply play videos on jupyter notebook\n",
        "from IPython.display import clear_output\n",
        "\n",
        "video_path = \"data/input.avi\"\n",
        "\n",
        "# Constants used in two different cells (consistency purposes)\n",
        "OTHER = 'Other'\n",
        "PERSON = 'Person'\n",
        "AREA = 'Area'\n",
        "PERIMETER = 'Perimeter'"
      ]
    },
    {
      "cell_type": "markdown",
      "id": "ac3dec06",
      "metadata": {
        "id": "ac3dec06"
      },
      "source": [
        "## Functions explanation\n",
        "#### These functions implement the following distances between two frames:\n",
        "* `l1` Manhattan distance: $L_1(i,j)=||F_t(i,j) - F_k(i,j)||_1 = \\sum_{i=1}^n{|f_i^t(i,j) - f_i^k(i,j)|}$.\n",
        "* `l2` Euclidean distance: $L_2(i,j)=||F_t(i,j) - F_k(i,j)||_2 = \\sqrt{\\sum_{i=1}^n{|f_i^t(i,j) - f_i^k(i,j)|^2}}$.\n",
        "* `linf` Maximum distance: $L_{\\infty}(i,j)=||F_t(i,j) - F_k(i,j)||_{\\infty} = max_i(|f_i^t(i,j) - f_i^k(i,j)|), i=1..n$.\n",
        "\n",
        "$F_t(i,j) = [f_1^t(i,j),…, f_n^t(i,j)]$ and $F_k(i,j) = [f_1^k(i,j),…, f_n^k(i,j)]$ are two frames with $n$ channels."
      ]
    },
    {
      "cell_type": "code",
      "execution_count": null,
      "id": "65bc8dcb",
      "metadata": {
        "id": "65bc8dcb"
      },
      "outputs": [],
      "source": [
        "def l1(img1, img2):\n",
        "    diff = np.abs(img1-img2)\n",
        "    if img1.shape[-1] ==  3 and len(img1.shape)==3:\n",
        "        # Sums the resulting difference along the RGB channel\n",
        "        diff = np.sum(diff, axis=-1)\n",
        "    return diff\n",
        "\n",
        "def l2_distance(img1, img2):\n",
        "    sq_dist = (img1-img2)**2\n",
        "    if img1.shape[-1] ==  3 and len(img1.shape)==3:\n",
        "        # Sums the squared distance along the RGB channel\n",
        "        sq_dist = np.sum(sq_dist,axis=-1)\n",
        "    diff = np.sqrt(sq_dist)\n",
        "    return diff\n",
        "\n",
        "def linf(img1, img2):\n",
        "    diff = np.abs(img1 - img2)\n",
        "    if img1.shape[-1] == 3 and len(img1.shape) == 3:\n",
        "        # Takes the max value of the resulting difference along the RGB channel\n",
        "        diff = np.max(diff, axis = -1)\n",
        "    return diff"
      ]
    },
    {
      "cell_type": "markdown",
      "id": "040149d9",
      "metadata": {
        "id": "040149d9"
      },
      "source": [
        "#### Support function to plot results and visually analyze them"
      ]
    },
    {
      "cell_type": "code",
      "execution_count": null,
      "id": "d0b4212f",
      "metadata": {
        "id": "d0b4212f"
      },
      "outputs": [],
      "source": [
        "import math\n",
        "\n",
        "def plot_imgs(images, cols, figsize):\n",
        "    '''\n",
        "    Plots a list of images and works also for a single one.\n",
        "    Choose the proper value for 'cols' according to the number of images to be plotted.\n",
        "    '''\n",
        "    imgs_count = len(images)\n",
        "    rows = math.ceil(imgs_count/cols)\n",
        "\n",
        "    fig, axs = plt.subplots(rows, cols, figsize=figsize)\n",
        "\n",
        "    # One row case, the axis are just an array (only presence of columns)\n",
        "    if rows == 1:\n",
        "        for y in range(cols):\n",
        "            if len(images[-imgs_count].shape) < 3:\n",
        "                # Gray level image\n",
        "                axs[y].imshow(images[-imgs_count], cmap='gray', vmin=0, vmax=255, aspect=\"auto\")\n",
        "            else:\n",
        "                # Colored image\n",
        "                axs[y].imshow(images[-imgs_count], aspect=\"auto\")\n",
        "            imgs_count -= 1\n",
        "\n",
        "    # Multiple rows and columns\n",
        "    else:\n",
        "        for x in range(rows):\n",
        "            for y in range(cols):\n",
        "                if len(images[-imgs_count].shape) < 3:\n",
        "                    # Gray level image\n",
        "                    axs[x][y].imshow(images[-imgs_count], cmap='gray', vmin=0, vmax=255, aspect=\"auto\")\n",
        "                else:\n",
        "                    # Colored image\n",
        "                    axs[x][y].imshow(images[-imgs_count], aspect=\"auto\")\n",
        "                imgs_count -= 1\n",
        "\n",
        "                # Columns may be more than the images to display\n",
        "                if imgs_count == 0:\n",
        "                    break\n",
        "    plt.show()"
      ]
    },
    {
      "cell_type": "markdown",
      "id": "822ce66d",
      "metadata": {
        "id": "822ce66d"
      },
      "source": [
        "#### Background extraction through interpolation of the `n_frames`.\n",
        "The interpolation can be either the mean or the median"
      ]
    },
    {
      "cell_type": "code",
      "execution_count": null,
      "id": "2d4e621d",
      "metadata": {
        "id": "2d4e621d",
        "outputId": "83d926d5-e495-4981-c53c-cf4b006eac7a"
      },
      "outputs": [
        {
          "data": {
            "image/png": "[encoded data removed]",
            "text/plain": [
              "<Figure size 432x288 with 1 Axes>"
            ]
          },
          "metadata": {
            "needs_background": "light"
          },
          "output_type": "display_data"
        }
      ],
      "source": [
        "def extract_background(video_path, n_frames, interpolation):\n",
        "    '''\n",
        "    Interpolates the first 'n_frames', through the function 'interpolation'.\n",
        "    Returns the background image.\n",
        "    '''\n",
        "    cap = cv2.VideoCapture(video_path)\n",
        "    i = 0\n",
        "    frames = []\n",
        "\n",
        "    # Store the first n_frames\n",
        "    while(i < n_frames):\n",
        "        if cap.isOpened():\n",
        "            ret, frame = cap.read()\n",
        "            if not ret or frame is None:\n",
        "                # Release the Video if ret is false\n",
        "                cap.release()\n",
        "                break\n",
        "\n",
        "            frames.append(frame.astype(float))\n",
        "\n",
        "            i+= 1\n",
        "        else:\n",
        "            print('Video capture is not opened...')\n",
        "            break\n",
        "\n",
        "    # Compute the background throughout an interpolation\n",
        "    stacked_frames = np.stack(frames, axis = 0)\n",
        "    background = interpolation(stacked_frames, axis = 0)\n",
        "\n",
        "    return background\n",
        "\n",
        "n = 100\n",
        "interpolation = np.median # np.mean()\n",
        "\n",
        "bg = extract_background(video_path, n, interpolation)\n",
        "plt.imshow(bg.astype(np.uint8))\n",
        "plt.show()"
      ]
    },
    {
      "cell_type": "markdown",
      "id": "a11ed445",
      "metadata": {
        "id": "a11ed445"
      },
      "source": [
        "#### These classes are employed to store the necessary data in an organized manner."
      ]
    },
    {
      "cell_type": "code",
      "execution_count": null,
      "id": "92d67112",
      "metadata": {
        "id": "92d67112"
      },
      "outputs": [],
      "source": [
        "class Blob:\n",
        "    def __init__(self, identifier, label, features):\n",
        "        self.identifier = identifier\n",
        "        self.label = label\n",
        "        self.features = features\n",
        "\n",
        "class Feature:\n",
        "    def __init__(self, name, value):\n",
        "        self.name = name\n",
        "        self.value = value"
      ]
    },
    {
      "cell_type": "markdown",
      "id": "c6a5bf0a",
      "metadata": {
        "id": "c6a5bf0a"
      },
      "source": [
        "#### `filter_mask` improves the mask quality.\n",
        "We use binary morphology operators, such as erosion and dilation in order to:\n",
        "- remove small blobs.\n",
        "- enhance the relevant ones.\n",
        "- get rid of noise and image smoothing.\n",
        "\n",
        "Moreover, we tried to apply directly opening and closing through `cv.morphologyEx(img, cv.MORPH_OPEN, kernel)`, obtaining results visually worse than the current one. Causing presence of multiple holes and as consequence the intruder turned out to be divided in more parts."
      ]
    },
    {
      "cell_type": "code",
      "execution_count": null,
      "id": "4d6b6951",
      "metadata": {
        "id": "4d6b6951"
      },
      "outputs": [],
      "source": [
        "def filter_mask(frame, difference_img, th):\n",
        "    '''\n",
        "    Pipeline to process the mask obtained by subtracting the background to the frame.\n",
        "    Allows to remove small blobs and unify internal parts of relevant ones.\n",
        "    Returns:\n",
        "        - The computed mask by thresholding\n",
        "        - Result of last opening\n",
        "        - Result of closing\n",
        "        - Image with the detected blobs\n",
        "    '''\n",
        "    mask = difference_img > th\n",
        "    mask = np.array(mask, dtype = np.uint8)*255\n",
        "    mask[mask!=0] = 255\n",
        "\n",
        "    img_copy = frame.copy()\n",
        "    img_copy[np.logical_not(mask)] = np.asarray([255,255,255])\n",
        "\n",
        "    # Area opening\n",
        "    kernel_erode = cv2.getStructuringElement(cv2.MORPH_RECT, (2,4))\n",
        "    kernel_dilate = cv2.getStructuringElement(cv2.MORPH_RECT, (2,4))\n",
        "    erode = cv2.morphologyEx(mask, cv2.MORPH_ERODE, kernel_erode)\n",
        "    dilation = cv2.morphologyEx(erode, cv2.MORPH_DILATE, kernel_dilate)\n",
        "    area_opening = dilation\n",
        "\n",
        "    # Closing\n",
        "    kernel_erode = cv2.getStructuringElement(cv2.MORPH_RECT, (2,4))\n",
        "    kernel_dilate = cv2.getStructuringElement(cv2.MORPH_RECT, (12,24))\n",
        "    dilation = cv2.morphologyEx(area_opening, cv2.MORPH_DILATE, kernel_dilate)\n",
        "    erode = cv2.morphologyEx(dilation, cv2.MORPH_ERODE, kernel_erode)\n",
        "    closing = erode\n",
        "\n",
        "    # Opening\n",
        "    kernel_erode = cv2.getStructuringElement(cv2.MORPH_RECT, (5,10))\n",
        "    kernel_dilate = cv2.getStructuringElement(cv2.MORPH_RECT, (2,6))\n",
        "    erode = cv2.morphologyEx(closing, cv2.MORPH_ERODE, kernel_erode)\n",
        "    dilation = cv2.morphologyEx(erode, cv2.MORPH_DILATE, kernel_dilate)\n",
        "    opening = dilation\n",
        "\n",
        "    return mask, opening, closing, img_copy"
      ]
    },
    {
      "cell_type": "markdown",
      "id": "8d49708b",
      "metadata": {
        "id": "8d49708b"
      },
      "source": [
        "#### `find_draw_contours` finds and draws the contours by taking advantage of the `cv2.findContours` function\n",
        "More specifically, the parameters:\n",
        "- `cv2.RETR_EXTERNAL` allows to retrieve just the external contours without taking into account internal ones, which belong to their parents (e.g. unwanted holes)\n",
        "- `cv2.CHAIN_APPROX_SIMPLE` avoids storing redundant points belonging to the contour (e.g. to represent a straight contour line, not all the points are needed)"
      ]
    },
    {
      "cell_type": "code",
      "execution_count": null,
      "id": "0ffe04fd",
      "metadata": {
        "id": "0ffe04fd"
      },
      "outputs": [],
      "source": [
        "def find_draw_contours(img_contours, img, colors, thickness):\n",
        "    '''\n",
        "    Finds the contours, then draws them with the input colors on the provided image 'img_contours'.\n",
        "    '''\n",
        "\n",
        "    _, contours, hierarchy = cv2.findContours(img, cv2.RETR_EXTERNAL, cv2.CHAIN_APPROX_SIMPLE)\n",
        "\n",
        "    for i in range(len(contours)):\n",
        "        cv2.drawContours(img_contours, [contours[i]], -1, colors[i], thickness)\n",
        "\n",
        "    return img_contours, contours"
      ]
    },
    {
      "cell_type": "markdown",
      "id": "4ad93be9",
      "metadata": {
        "id": "4ad93be9"
      },
      "source": [
        "#### `get_blobs_features` retrieves the area and perimeter of the blob through contours"
      ]
    },
    {
      "cell_type": "code",
      "execution_count": null,
      "id": "4a8df87a",
      "metadata": {
        "id": "4a8df87a"
      },
      "outputs": [],
      "source": [
        "def get_blobs_features(contours):\n",
        "    '''\n",
        "    Creates a list of Blob objects with their respective features, given the 'contours'.\n",
        "    'contours' shall contain the contour of each detected object.\n",
        "    '''\n",
        "    blobs_features = []\n",
        "    for i in range(len(contours)):\n",
        "        a = Feature(AREA, cv2.contourArea(contours[i]))\n",
        "        p = Feature(PERIMETER, cv2.arcLength(contours[i],True))\n",
        "        blobs_features.append(Blob(i, None, {AREA: a, PERIMETER: p}))\n",
        "\n",
        "    return blobs_features"
      ]
    },
    {
      "cell_type": "markdown",
      "id": "ed6cff85",
      "metadata": {
        "id": "ed6cff85"
      },
      "source": [
        "## Intrusion detection pipeline\n",
        "#### `show_intruder` detects changes in the video by performing the following steps:\n",
        "1. Loads a frame\n",
        "2. Computes difference between the background and the frame\n",
        "3. Applies operations of Dilation and Erosion to improve the quality of the mask\n",
        "4. Finds contours and draws them on the output image\n",
        "5. Computes the Blob features\n",
        "6. Plots the results"
      ]
    },
    {
      "cell_type": "code",
      "execution_count": null,
      "id": "03166dca",
      "metadata": {
        "id": "03166dca"
      },
      "outputs": [],
      "source": [
        "def show_intruder(video_path, start_frame, distance, th, colors, show_frames = True):\n",
        "    '''\n",
        "    Detects changes in the video, loaded from 'video_path':\n",
        "        1. Loads a frame\n",
        "        2. Computes difference between the background 'bg' and the 'frame'\n",
        "        3. Applies operations of Dilation and Erosion to improve the quality of the mask\n",
        "        4. Finds contours and draws them on the 'res' image\n",
        "        5. Computes the Blob features\n",
        "        6. Plots the results\n",
        "    Returns a list where each element is a a list of Blob objects, with their respective features.\n",
        "    The size of the list corresponds with the number of frames.\n",
        "    '''\n",
        "    cap = cv2.VideoCapture(video_path)\n",
        "    cnt = 0\n",
        "    all_blobs = []\n",
        "    try:\n",
        "        while(cap.isOpened()):\n",
        "\n",
        "            # Load frame\n",
        "            ret, frame = cap.read()\n",
        "\n",
        "            if not ret or frame is None:\n",
        "                cap.release()\n",
        "                print(\"Released Video Resource\")\n",
        "                break\n",
        "\n",
        "            if cnt > start_frame:\n",
        "\n",
        "                # Compute difference between frame and background\n",
        "                diff = distance(frame, bg)\n",
        "\n",
        "                # Improve mask quality\n",
        "                mask, opening, closing, img_blobs = filter_mask(frame, diff, th)\n",
        "\n",
        "                # Find and draw contours for each detected blob\n",
        "                res, contours = find_draw_contours(frame, opening, colors, thickness=2)\n",
        "\n",
        "                # Append list of blobs detected within the frame, with their respective features\n",
        "                all_blobs.append(get_blobs_features(contours))\n",
        "\n",
        "                # Show frames if needed\n",
        "                if show_frames:\n",
        "                    plot_imgs([res, mask, opening], cols=3, figsize=(18,5))\n",
        "\n",
        "                clear_output(wait=True)\n",
        "\n",
        "            cnt += 1\n",
        "    except KeyboardInterrupt:\n",
        "        cap.release()\n",
        "        print(\"Released Video Resource\")\n",
        "\n",
        "    return all_blobs"
      ]
    },
    {
      "cell_type": "markdown",
      "id": "639ebbd2",
      "metadata": {
        "id": "639ebbd2"
      },
      "source": [
        "### Main cell\n",
        "1. Create a list of random colors, needed to drawn the blob contours.\n",
        "2. Set the threshold and the distance function, needed as parameters for the `show_intruder` function.\n",
        "3. Call the main function `show_intruder`."
      ]
    },
    {
      "cell_type": "code",
      "execution_count": null,
      "id": "e3d9576e",
      "metadata": {
        "scrolled": true,
        "id": "e3d9576e",
        "outputId": "28f84b09-8e8c-4718-df72-566216703257"
      },
      "outputs": [
        {
          "name": "stdout",
          "output_type": "stream",
          "text": [
            "Released Video Resource\n"
          ]
        }
      ],
      "source": [
        "seed = 42\n",
        "np.random.seed(seed)\n",
        "\n",
        "# Needed to draw contours\n",
        "colors = [tuple(np.random.choice(range(256), size=3)) for x in range(200)]\n",
        "for i in range(len(colors)):\n",
        "    rgb = colors[i]\n",
        "    colors[i] = (int(rgb[0]), int(rgb[1]), int(rgb[2]))\n",
        "\n",
        "# Frames of interest\n",
        "initial_frame = 0\n",
        "steal_box_frame = 270\n",
        "replace_box_frame = 305\n",
        "\n",
        "threshold = 40\n",
        "distance = linf\n",
        "show_frames = True\n",
        "\n",
        "all_blobs = show_intruder(video_path, initial_frame, distance, threshold, colors, show_frames)"
      ]
    },
    {
      "cell_type": "markdown",
      "id": "08eeffd1",
      "metadata": {
        "id": "08eeffd1"
      },
      "source": [
        "#### `store results` writes the outcomes on file and labels each detected blob depending on a threshold"
      ]
    },
    {
      "cell_type": "code",
      "execution_count": null,
      "id": "f60dd8e2",
      "metadata": {
        "id": "f60dd8e2"
      },
      "outputs": [],
      "source": [
        "def store_results(all_blobs, file_name='data/output.txt'):\n",
        "    '''\n",
        "    Writes on file a list, which contains the name and the features of all Blob objects.\n",
        "    'all_blobs' is a list where each element is a list of Blob objects, detected in one frame.\n",
        "    '''\n",
        "    threshold = 6000\n",
        "\n",
        "    file = open(file_name, \"w\")\n",
        "    # Loop through blob list\n",
        "    for frame_index in range(len(all_blobs)):\n",
        "        n_detected_objs = len(all_blobs[frame_index])\n",
        "        file.write(f'{frame_index}\\t{n_detected_objs}\\n')\n",
        "\n",
        "        for b in all_blobs[frame_index]:\n",
        "            # Write blob identifier\n",
        "            file.write(f'{b.identifier}\\t')\n",
        "\n",
        "            # Write features and classify blobs according to a threshold\n",
        "            for key, feature in b.features.items():\n",
        "                file.write(f'{round(feature.value)}\\t\\t')\n",
        "            if (b.features[AREA].value >= threshold):\n",
        "                b.label = PERSON\n",
        "            else:\n",
        "                b.label = OTHER\n",
        "            file.write(f'{b.label}\\n')\n",
        "        file.write('\\n')\n",
        "    file.close()\n",
        "\n",
        "store_results(all_blobs)"
      ]
    }
  ],
  "metadata": {
    "kernelspec": {
      "display_name": "Python 3 (ipykernel)",
      "language": "python",
      "name": "python3"
    },
    "language_info": {
      "codemirror_mode": {
        "name": "ipython",
        "version": 3
      },
      "file_extension": ".py",
      "mimetype": "text/x-python",
      "name": "python",
      "nbconvert_exporter": "python",
      "pygments_lexer": "ipython3",
      "version": "3.7.11"
    },
    "colab": {
      "provenance": [],
      "include_colab_link": true
    }
  },
  "nbformat": 4,
  "nbformat_minor": 5
}